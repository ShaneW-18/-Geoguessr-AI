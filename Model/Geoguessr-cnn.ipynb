{
 "cells": [
  {
   "cell_type": "code",
   "execution_count": 1,
   "metadata": {
    "collapsed": true
   },
   "outputs": [],
   "source": [
    "import keras\n",
    "import pandas as pd\n",
    "import tensorflow as tf\n",
    "import matplotlib.pyplot as plt\n",
    "import numpy as np\n",
    "import pickle as pkl\n",
    "from tensorflow.keras import layers\n",
    "from tensorflow.keras.models import Sequential\n"
   ]
  },
  {
   "cell_type": "code",
   "execution_count": 2,
   "outputs": [
    {
     "name": "stdout",
     "output_type": "stream",
     "text": [
      "Num GPUs Available:  1\n"
     ]
    },
    {
     "data": {
      "text/plain": "[PhysicalDevice(name='/physical_device:GPU:0', device_type='GPU')]"
     },
     "execution_count": 2,
     "metadata": {},
     "output_type": "execute_result"
    }
   ],
   "source": [
    "import tensorflow as tf\n",
    "print(\"Num GPUs Available: \", len(tf.config.list_physical_devices('GPU')))\n",
    "tf.config.list_physical_devices(device_type='GPU')\n"
   ],
   "metadata": {
    "collapsed": false
   }
  },
  {
   "cell_type": "code",
   "execution_count": 9,
   "outputs": [],
   "source": [
    "usaPolyGrid = pkl.load(open(\"util/usaPolyGrid.pkl\",'rb'))\n",
    "base_path = 'Data/'\n",
    "grids = np.array(list(usaPolyGrid.keys()),np.int32)"
   ],
   "metadata": {
    "collapsed": false
   }
  },
  {
   "cell_type": "markdown",
   "source": [
    "## Format Data"
   ],
   "metadata": {
    "collapsed": false
   }
  },
  {
   "cell_type": "code",
   "execution_count": 9,
   "outputs": [],
   "source": [],
   "metadata": {
    "collapsed": false
   }
  },
  {
   "cell_type": "code",
   "execution_count": 3,
   "outputs": [
    {
     "name": "stdout",
     "output_type": "stream",
     "text": [
      "Found 83708 files belonging to 243 classes.\n",
      "Using 66967 files for training.\n",
      "Found 83708 files belonging to 243 classes.\n",
      "Using 16741 files for validation.\n"
     ]
    }
   ],
   "source": [
    "\n",
    "# ds_train = tf.keras.preprocessing.image_dataset_from_directory(\n",
    "#     'Data/',\n",
    "#     labels='inferred',\n",
    "#     label_mode = 'categorical',\n",
    "#     color_mode='grayscale',\n",
    "#     batch_size=64,\n",
    "#     image_size=(1000, 1000),\n",
    "#     shuffle=True,\n",
    "#     seed=123,\n",
    "#     validation_split=.15,\n",
    "#     subset=\"training\"\n",
    "# )\n",
    "#\n",
    "# ds_validation = tf.keras.preprocessing.image_dataset_from_directory(\n",
    "#     'Data/',\n",
    "#     labels='inferred',\n",
    "#     label_mode = 'categorical',\n",
    "#     color_mode='grayscale',\n",
    "#     batch_size=64,\n",
    "#     image_size=(1000, 1000),\n",
    "#     shuffle=True,\n",
    "#     seed=123,\n",
    "#     validation_split=.15,\n",
    "#     subset=\"validation\"\n",
    "# )\n",
    "batch_size = 20\n",
    "img_height = 200\n",
    "img_width = 200\n",
    "\n",
    "train_ds = tf.keras.utils.image_dataset_from_directory(\n",
    "    'Simplified_Data',\n",
    "    validation_split=0.2,\n",
    "    subset=\"training\",\n",
    "    seed=123,\n",
    "    image_size=(img_height, img_width),\n",
    "    batch_size=batch_size)\n",
    "val_ds = tf.keras.utils.image_dataset_from_directory(\n",
    "    'Simplified_Data',\n",
    "    validation_split=0.2,\n",
    "    subset=\"validation\",\n",
    "    seed=123,\n",
    "    image_size=(img_height, img_width),\n",
    "    batch_size=batch_size)\n",
    "\n"
   ],
   "metadata": {
    "collapsed": false
   }
  },
  {
   "cell_type": "code",
   "execution_count": null,
   "outputs": [],
   "source": [
    "def augment(x,y):\n",
    "    image = tf.image.random_brightness(x, max_delta=0.05)\n",
    "    return  image,y\n",
    "train_ds = train_ds.map(augment)\n",
    "\n",
    "labels = []\n",
    "for i in range(243):\n",
    "    labels.append(i)\n",
    "\n",
    "class_names = val_ds.class_names\n",
    "print(class_names)\n",
    "\n",
    "import matplotlib.pyplot as plt\n",
    "\n",
    "# plt.figure(figsize=(10, 10))\n",
    "# for images, labels in train_ds.take(1):\n",
    "#     for i in range(9):\n",
    "#         ax = plt.subplot(3, 3, i + 1)\n",
    "#         plt.imshow(images[i].numpy().astype(\"uint8\"))\n",
    "#         plt.title(class_names[labels[i]])\n",
    "#         plt.axis(\"off\")\n",
    "\n",
    "\n"
   ],
   "metadata": {
    "collapsed": false
   }
  },
  {
   "cell_type": "code",
   "execution_count": null,
   "outputs": [],
   "source": [
    "for image_batch, labels_batch in train_ds:\n",
    "    print(image_batch.shape)\n",
    "    print(labels_batch.shape)\n",
    "    break"
   ],
   "metadata": {
    "collapsed": false
   }
  },
  {
   "cell_type": "code",
   "execution_count": null,
   "outputs": [],
   "source": [
    "AUTOTUNE = tf.data.AUTOTUNE\n",
    "\n",
    "train_ds = train_ds.cache().shuffle(1000).prefetch(buffer_size=AUTOTUNE)\n",
    "val_ds = val_ds.cache().prefetch(buffer_size=AUTOTUNE)\n",
    "normalization_layer = layers.Rescaling(1./255)\n"
   ],
   "metadata": {
    "collapsed": false
   }
  },
  {
   "cell_type": "code",
   "execution_count": null,
   "outputs": [],
   "source": [
    "normalized_ds = train_ds.map(lambda x, y: (normalization_layer(x), y))\n",
    "\n"
   ],
   "metadata": {
    "collapsed": false
   }
  },
  {
   "cell_type": "code",
   "execution_count": null,
   "outputs": [],
   "source": [
    "num_classes = len(class_names)\n",
    "\n",
    "model = Sequential([\n",
    "    layers.Conv2D(32,(5,5), activation='relu', input_shape=(img_height, img_width, 3)),\n",
    "    layers.MaxPooling2D((5,5)),\n",
    "    layers.Conv2D(32, (5, 5), padding='same', activation='relu'),\n",
    "    layers.MaxPooling2D((5,5)),\n",
    "    layers.Conv2D(64, (5, 5), padding='same', activation='relu'),\n",
    "    layers.Flatten(),\n",
    "    layers.Dense(128, activation='relu'),\n",
    "    layers.Dense(num_classes)\n",
    "])\n",
    "# layers.Rescaling(1./255, input_shape=(img_height, img_width, 3)),\n",
    "# layers.Conv2D(32, (3, 3), padding='same', activation='relu'),\n",
    "# layers.MaxPooling2D(pool_size=(2, 2), strides=(2, 2)),\n",
    "# layers.Conv2D(64, (3, 3), padding='same', activation='relu'),\n",
    "# layers.Flatten(),\n",
    "# layers.Dense(1024),\n",
    "# layers.Dense(num_classes)\n",
    "model.summary()"
   ],
   "metadata": {
    "collapsed": false
   }
  },
  {
   "cell_type": "code",
   "execution_count": null,
   "outputs": [],
   "source": [
    "model.compile(optimizer='adam',\n",
    "              loss=tf.keras.losses.SparseCategoricalCrossentropy(from_logits=True),\n",
    "              metrics=['accuracy'])\n",
    "model.summary()\n"
   ],
   "metadata": {
    "collapsed": false
   }
  },
  {
   "cell_type": "code",
   "execution_count": null,
   "outputs": [],
   "source": [
    "epochs=10\n",
    "history = model.fit(\n",
    "    train_ds,\n",
    "    validation_data=val_ds,\n",
    "    epochs=epochs\n",
    ")\n"
   ],
   "metadata": {
    "collapsed": false
   }
  },
  {
   "cell_type": "markdown",
   "source": [],
   "metadata": {
    "collapsed": false
   }
  },
  {
   "cell_type": "code",
   "execution_count": 4,
   "outputs": [
    {
     "ename": "TypeError",
     "evalue": "__init__() got an unexpected keyword argument 'ignore_class'",
     "output_type": "error",
     "traceback": [
      "\u001B[0;31m---------------------------------------------------------------------------\u001B[0m",
      "\u001B[0;31mTypeError\u001B[0m                                 Traceback (most recent call last)",
      "\u001B[0;32m<ipython-input-4-8a9275a7ee74>\u001B[0m in \u001B[0;36m<module>\u001B[0;34m\u001B[0m\n\u001B[0;32m----> 1\u001B[0;31m \u001B[0mloaded_model\u001B[0m \u001B[0;34m=\u001B[0m \u001B[0mtf\u001B[0m\u001B[0;34m.\u001B[0m\u001B[0mkeras\u001B[0m\u001B[0;34m.\u001B[0m\u001B[0mmodels\u001B[0m\u001B[0;34m.\u001B[0m\u001B[0mload_model\u001B[0m\u001B[0;34m(\u001B[0m\u001B[0;34m'shane_model'\u001B[0m\u001B[0;34m)\u001B[0m\u001B[0;34m\u001B[0m\u001B[0;34m\u001B[0m\u001B[0m\n\u001B[0m\u001B[1;32m      2\u001B[0m \u001B[0mloaded_model\u001B[0m\u001B[0;34m.\u001B[0m\u001B[0mpredict\u001B[0m\u001B[0;34m(\u001B[0m\u001B[0mval_ds\u001B[0m\u001B[0;34m)\u001B[0m\u001B[0;34m\u001B[0m\u001B[0;34m\u001B[0m\u001B[0m\n",
      "\u001B[0;32m~/Documents/dev/Geoguessr_example/venv/lib/python3.6/site-packages/keras/saving/save.py\u001B[0m in \u001B[0;36mload_model\u001B[0;34m(filepath, custom_objects, compile, options)\u001B[0m\n\u001B[1;32m    203\u001B[0m         \u001B[0mfilepath\u001B[0m \u001B[0;34m=\u001B[0m \u001B[0mpath_to_string\u001B[0m\u001B[0;34m(\u001B[0m\u001B[0mfilepath\u001B[0m\u001B[0;34m)\u001B[0m\u001B[0;34m\u001B[0m\u001B[0;34m\u001B[0m\u001B[0m\n\u001B[1;32m    204\u001B[0m         \u001B[0;32mif\u001B[0m \u001B[0misinstance\u001B[0m\u001B[0;34m(\u001B[0m\u001B[0mfilepath\u001B[0m\u001B[0;34m,\u001B[0m \u001B[0mstr\u001B[0m\u001B[0;34m)\u001B[0m\u001B[0;34m:\u001B[0m\u001B[0;34m\u001B[0m\u001B[0;34m\u001B[0m\u001B[0m\n\u001B[0;32m--> 205\u001B[0;31m           \u001B[0;32mreturn\u001B[0m \u001B[0msaved_model_load\u001B[0m\u001B[0;34m.\u001B[0m\u001B[0mload\u001B[0m\u001B[0;34m(\u001B[0m\u001B[0mfilepath\u001B[0m\u001B[0;34m,\u001B[0m \u001B[0mcompile\u001B[0m\u001B[0;34m,\u001B[0m \u001B[0moptions\u001B[0m\u001B[0;34m)\u001B[0m\u001B[0;34m\u001B[0m\u001B[0;34m\u001B[0m\u001B[0m\n\u001B[0m\u001B[1;32m    206\u001B[0m \u001B[0;34m\u001B[0m\u001B[0m\n\u001B[1;32m    207\u001B[0m   raise IOError(\n",
      "\u001B[0;32m~/Documents/dev/Geoguessr_example/venv/lib/python3.6/site-packages/keras/saving/saved_model/load.py\u001B[0m in \u001B[0;36mload\u001B[0;34m(path, compile, options)\u001B[0m\n\u001B[1;32m    154\u001B[0m     \u001B[0;32mif\u001B[0m \u001B[0mtraining_config\u001B[0m \u001B[0;32mis\u001B[0m \u001B[0;32mnot\u001B[0m \u001B[0;32mNone\u001B[0m\u001B[0;34m:\u001B[0m\u001B[0;34m\u001B[0m\u001B[0;34m\u001B[0m\u001B[0m\n\u001B[1;32m    155\u001B[0m       model.compile(**saving_utils.compile_args_from_training_config(\n\u001B[0;32m--> 156\u001B[0;31m           training_config), from_serialized=True)\n\u001B[0m\u001B[1;32m    157\u001B[0m       \u001B[0msaving_utils\u001B[0m\u001B[0;34m.\u001B[0m\u001B[0mtry_build_compiled_arguments\u001B[0m\u001B[0;34m(\u001B[0m\u001B[0mmodel\u001B[0m\u001B[0;34m)\u001B[0m\u001B[0;34m\u001B[0m\u001B[0;34m\u001B[0m\u001B[0m\n\u001B[1;32m    158\u001B[0m       \u001B[0;32mif\u001B[0m \u001B[0misinstance\u001B[0m\u001B[0;34m(\u001B[0m\u001B[0mmodel\u001B[0m\u001B[0;34m.\u001B[0m\u001B[0moptimizer\u001B[0m\u001B[0;34m,\u001B[0m \u001B[0moptimizer_v2\u001B[0m\u001B[0;34m.\u001B[0m\u001B[0mOptimizerV2\u001B[0m\u001B[0;34m)\u001B[0m\u001B[0;34m:\u001B[0m\u001B[0;34m\u001B[0m\u001B[0;34m\u001B[0m\u001B[0m\n",
      "\u001B[0;32m~/Documents/dev/Geoguessr_example/venv/lib/python3.6/site-packages/keras/saving/saving_utils.py\u001B[0m in \u001B[0;36mcompile_args_from_training_config\u001B[0;34m(training_config, custom_objects)\u001B[0m\n\u001B[1;32m    206\u001B[0m     \u001B[0mloss_config\u001B[0m \u001B[0;34m=\u001B[0m \u001B[0mtraining_config\u001B[0m\u001B[0;34m.\u001B[0m\u001B[0mget\u001B[0m\u001B[0;34m(\u001B[0m\u001B[0;34m'loss'\u001B[0m\u001B[0;34m,\u001B[0m \u001B[0;32mNone\u001B[0m\u001B[0;34m)\u001B[0m\u001B[0;34m\u001B[0m\u001B[0;34m\u001B[0m\u001B[0m\n\u001B[1;32m    207\u001B[0m     \u001B[0;32mif\u001B[0m \u001B[0mloss_config\u001B[0m \u001B[0;32mis\u001B[0m \u001B[0;32mnot\u001B[0m \u001B[0;32mNone\u001B[0m\u001B[0;34m:\u001B[0m\u001B[0;34m\u001B[0m\u001B[0;34m\u001B[0m\u001B[0m\n\u001B[0;32m--> 208\u001B[0;31m       \u001B[0mloss\u001B[0m \u001B[0;34m=\u001B[0m \u001B[0m_deserialize_nested_config\u001B[0m\u001B[0;34m(\u001B[0m\u001B[0mlosses\u001B[0m\u001B[0;34m.\u001B[0m\u001B[0mdeserialize\u001B[0m\u001B[0;34m,\u001B[0m \u001B[0mloss_config\u001B[0m\u001B[0;34m)\u001B[0m\u001B[0;34m\u001B[0m\u001B[0;34m\u001B[0m\u001B[0m\n\u001B[0m\u001B[1;32m    209\u001B[0m \u001B[0;34m\u001B[0m\u001B[0m\n\u001B[1;32m    210\u001B[0m     \u001B[0;31m# Recover metrics.\u001B[0m\u001B[0;34m\u001B[0m\u001B[0;34m\u001B[0m\u001B[0;34m\u001B[0m\u001B[0m\n",
      "\u001B[0;32m~/Documents/dev/Geoguessr_example/venv/lib/python3.6/site-packages/keras/saving/saving_utils.py\u001B[0m in \u001B[0;36m_deserialize_nested_config\u001B[0;34m(deserialize_fn, config)\u001B[0m\n\u001B[1;32m    247\u001B[0m     \u001B[0;32mreturn\u001B[0m \u001B[0;32mNone\u001B[0m\u001B[0;34m\u001B[0m\u001B[0;34m\u001B[0m\u001B[0m\n\u001B[1;32m    248\u001B[0m   \u001B[0;32mif\u001B[0m \u001B[0m_is_single_object\u001B[0m\u001B[0;34m(\u001B[0m\u001B[0mconfig\u001B[0m\u001B[0;34m)\u001B[0m\u001B[0;34m:\u001B[0m\u001B[0;34m\u001B[0m\u001B[0;34m\u001B[0m\u001B[0m\n\u001B[0;32m--> 249\u001B[0;31m     \u001B[0;32mreturn\u001B[0m \u001B[0mdeserialize_fn\u001B[0m\u001B[0;34m(\u001B[0m\u001B[0mconfig\u001B[0m\u001B[0;34m)\u001B[0m\u001B[0;34m\u001B[0m\u001B[0;34m\u001B[0m\u001B[0m\n\u001B[0m\u001B[1;32m    250\u001B[0m   \u001B[0;32melif\u001B[0m \u001B[0misinstance\u001B[0m\u001B[0;34m(\u001B[0m\u001B[0mconfig\u001B[0m\u001B[0;34m,\u001B[0m \u001B[0mdict\u001B[0m\u001B[0;34m)\u001B[0m\u001B[0;34m:\u001B[0m\u001B[0;34m\u001B[0m\u001B[0;34m\u001B[0m\u001B[0m\n\u001B[1;32m    251\u001B[0m     return {\n",
      "\u001B[0;32m~/Documents/dev/Geoguessr_example/venv/lib/python3.6/site-packages/keras/losses.py\u001B[0m in \u001B[0;36mdeserialize\u001B[0;34m(name, custom_objects)\u001B[0m\n\u001B[1;32m   2093\u001B[0m       \u001B[0mmodule_objects\u001B[0m\u001B[0;34m=\u001B[0m\u001B[0mglobals\u001B[0m\u001B[0;34m(\u001B[0m\u001B[0;34m)\u001B[0m\u001B[0;34m,\u001B[0m\u001B[0;34m\u001B[0m\u001B[0;34m\u001B[0m\u001B[0m\n\u001B[1;32m   2094\u001B[0m       \u001B[0mcustom_objects\u001B[0m\u001B[0;34m=\u001B[0m\u001B[0mcustom_objects\u001B[0m\u001B[0;34m,\u001B[0m\u001B[0;34m\u001B[0m\u001B[0;34m\u001B[0m\u001B[0m\n\u001B[0;32m-> 2095\u001B[0;31m       printable_module_name='loss function')\n\u001B[0m\u001B[1;32m   2096\u001B[0m \u001B[0;34m\u001B[0m\u001B[0m\n\u001B[1;32m   2097\u001B[0m \u001B[0;34m\u001B[0m\u001B[0m\n",
      "\u001B[0;32m~/Documents/dev/Geoguessr_example/venv/lib/python3.6/site-packages/keras/utils/generic_utils.py\u001B[0m in \u001B[0;36mdeserialize_keras_object\u001B[0;34m(identifier, module_objects, custom_objects, printable_module_name)\u001B[0m\n\u001B[1;32m    679\u001B[0m       \u001B[0;32melse\u001B[0m\u001B[0;34m:\u001B[0m\u001B[0;34m\u001B[0m\u001B[0;34m\u001B[0m\u001B[0m\n\u001B[1;32m    680\u001B[0m         \u001B[0;32mwith\u001B[0m \u001B[0mCustomObjectScope\u001B[0m\u001B[0;34m(\u001B[0m\u001B[0mcustom_objects\u001B[0m\u001B[0;34m)\u001B[0m\u001B[0;34m:\u001B[0m\u001B[0;34m\u001B[0m\u001B[0;34m\u001B[0m\u001B[0m\n\u001B[0;32m--> 681\u001B[0;31m           \u001B[0mdeserialized_obj\u001B[0m \u001B[0;34m=\u001B[0m \u001B[0mcls\u001B[0m\u001B[0;34m.\u001B[0m\u001B[0mfrom_config\u001B[0m\u001B[0;34m(\u001B[0m\u001B[0mcls_config\u001B[0m\u001B[0;34m)\u001B[0m\u001B[0;34m\u001B[0m\u001B[0;34m\u001B[0m\u001B[0m\n\u001B[0m\u001B[1;32m    682\u001B[0m     \u001B[0;32melse\u001B[0m\u001B[0;34m:\u001B[0m\u001B[0;34m\u001B[0m\u001B[0;34m\u001B[0m\u001B[0m\n\u001B[1;32m    683\u001B[0m       \u001B[0;31m# Then `cls` may be a function returning a class.\u001B[0m\u001B[0;34m\u001B[0m\u001B[0;34m\u001B[0m\u001B[0;34m\u001B[0m\u001B[0m\n",
      "\u001B[0;32m~/Documents/dev/Geoguessr_example/venv/lib/python3.6/site-packages/keras/losses.py\u001B[0m in \u001B[0;36mfrom_config\u001B[0;34m(cls, config)\u001B[0m\n\u001B[1;32m    153\u001B[0m         \u001B[0mA\u001B[0m\u001B[0;31m \u001B[0m\u001B[0;31m`\u001B[0m\u001B[0mLoss\u001B[0m\u001B[0;31m`\u001B[0m \u001B[0minstance\u001B[0m\u001B[0;34m.\u001B[0m\u001B[0;34m\u001B[0m\u001B[0;34m\u001B[0m\u001B[0m\n\u001B[1;32m    154\u001B[0m     \"\"\"\n\u001B[0;32m--> 155\u001B[0;31m     \u001B[0;32mreturn\u001B[0m \u001B[0mcls\u001B[0m\u001B[0;34m(\u001B[0m\u001B[0;34m**\u001B[0m\u001B[0mconfig\u001B[0m\u001B[0;34m)\u001B[0m\u001B[0;34m\u001B[0m\u001B[0;34m\u001B[0m\u001B[0m\n\u001B[0m\u001B[1;32m    156\u001B[0m \u001B[0;34m\u001B[0m\u001B[0m\n\u001B[1;32m    157\u001B[0m   \u001B[0;32mdef\u001B[0m \u001B[0mget_config\u001B[0m\u001B[0;34m(\u001B[0m\u001B[0mself\u001B[0m\u001B[0;34m)\u001B[0m\u001B[0;34m:\u001B[0m\u001B[0;34m\u001B[0m\u001B[0;34m\u001B[0m\u001B[0m\n",
      "\u001B[0;31mTypeError\u001B[0m: __init__() got an unexpected keyword argument 'ignore_class'"
     ]
    }
   ],
   "source": [
    "loaded_model = tf.keras.models.load_model('shane_model')\n",
    "loaded_model.predict(val_ds)"
   ],
   "metadata": {
    "collapsed": false
   }
  },
  {
   "cell_type": "code",
   "execution_count": null,
   "outputs": [],
   "source": [
    "# import matplotlib.pyplot as plt\n",
    "#\n",
    "# plt.figure(figsize=(10, 10))\n",
    "# for images, labels in ds_train.take(1):\n",
    "#     for i in range(243):\n",
    "#         ax = plt.subplot(3,81, i + 1)\n",
    "#         plt.imshow(images[i].numpy().astype(\"uint8\"))\n",
    "#         plt.title(class_names[labels[i]])\n",
    "#         plt.axis(\"off\")\n",
    "#"
   ],
   "metadata": {
    "collapsed": false
   }
  },
  {
   "cell_type": "code",
   "execution_count": null,
   "outputs": [],
   "source": [
    "# from tensorflow.keras import layers\n",
    "# from tensorflow import keras\n",
    "#\n",
    "# model = keras.Sequential([\n",
    "#     layers.Input((1000, 1000, 1)),\n",
    "#     layers.Conv2D(16,3,padding='same'),\n",
    "#     layers.Conv2D(32,3,padding='same'),\n",
    "#     layers.MaxPool2D(),\n",
    "#     layers.Flatten(),\n",
    "#     layers.Dense(10),\n",
    "# ])"
   ],
   "metadata": {
    "collapsed": false
   }
  },
  {
   "cell_type": "code",
   "execution_count": null,
   "outputs": [],
   "source": [
    "# model.compile(optimizer=keras.optimizers.Adam(),\n",
    "#               loss=[\n",
    "#                   keras.losses.SparseCategoricalCrossentropy(from_logits=True),\n",
    "#               ],\n",
    "#               metrics=['accuracy'],\n",
    "#             )\n",
    "# model.fit(ds_train, epochs=10, verbose=2)"
   ],
   "metadata": {
    "collapsed": false
   }
  },
  {
   "cell_type": "code",
   "execution_count": null,
   "outputs": [],
   "source": [
    "# dir = 'locations_train.csv'\n",
    "# df = pd.read_csv(dir)\n",
    "#\n",
    "# file_paths = df['path'].values\n",
    "# labels = df['grid'].values\n",
    "# training_data =tf.data.Dataset.from_tensor_slices((file_paths, labels))\n",
    "# def read_image(image_file, label):\n",
    "#     image = tf.io.read_file(image_file)\n",
    "#     image = tf.image.decode_image(image, channels=1, dtype=tf.float32)\n",
    "#     return image, label\n",
    "#\n",
    "# training_data = training_data.map(read_image).batch(64)"
   ],
   "metadata": {
    "collapsed": false
   }
  },
  {
   "cell_type": "markdown",
   "source": [],
   "metadata": {
    "collapsed": false
   }
  },
  {
   "cell_type": "code",
   "execution_count": null,
   "outputs": [],
   "source": [
    "# model = tf.keras.models.Sequential()\n",
    "# model.add(tf.keras.layers.Conv2D(32,(3,3), activation='relu', input_shape=(28,28,1)))\n",
    "# model.add(tf.keras.layers.MaxPool2D(pool_size=(2,2), strides=(2,2)))\n",
    "# model.add(tf.keras.layers.Conv2D(64,(3,3), activation='relu'))\n",
    "# model.add(tf.keras.layers.MaxPooling2D(pool_size=(2,2), strides=(2,2)))\n",
    "# model.add(tf.keras.layers.Conv2D(64,(3,3), activation='relu'))\n",
    "# model.add(tf.keras.layers.Flatten())\n",
    "#\n",
    "# model.add(tf.keras.layers.Dense(64, activation='relu'))\n",
    "# model.add(tf.keras.layers.Dense(10, activation='softmax'))\n",
    "# model.compile(optimizer='rmsprop', loss='categorical_crossentropy', metrics=['accuracy'])"
   ],
   "metadata": {
    "collapsed": false
   }
  },
  {
   "cell_type": "code",
   "execution_count": null,
   "outputs": [],
   "source": [
    "# model.fit(training_data, epochs=10, verbose=2)"
   ],
   "metadata": {
    "collapsed": false
   }
  },
  {
   "cell_type": "code",
   "execution_count": null,
   "outputs": [],
   "source": [],
   "metadata": {
    "collapsed": false
   }
  }
 ],
 "metadata": {
  "kernelspec": {
   "display_name": "Python 3",
   "language": "python",
   "name": "python3"
  },
  "language_info": {
   "codemirror_mode": {
    "name": "ipython",
    "version": 2
   },
   "file_extension": ".py",
   "mimetype": "text/x-python",
   "name": "python",
   "nbconvert_exporter": "python",
   "pygments_lexer": "ipython2",
   "version": "2.7.6"
  }
 },
 "nbformat": 4,
 "nbformat_minor": 0
}
